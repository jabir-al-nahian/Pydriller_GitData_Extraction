{
 "cells": [
  {
   "cell_type": "code",
   "execution_count": 1,
   "id": "9affb0ea-b0c4-41cc-9cf7-c80154aea98a",
   "metadata": {},
   "outputs": [
    {
     "name": "stdout",
     "output_type": "stream",
     "text": [
      "Defaulting to user installation because normal site-packages is not writeable\n",
      "Requirement already satisfied: pydriller in c:\\users\\nahian\\appdata\\roaming\\python\\python312\\site-packages (2.7)\n",
      "Requirement already satisfied: gitpython in c:\\users\\nahian\\appdata\\roaming\\python\\python312\\site-packages (from pydriller) (3.1.44)\n",
      "Requirement already satisfied: pytz in c:\\users\\nahian\\appdata\\roaming\\python\\python312\\site-packages (from pydriller) (2025.2)\n",
      "Requirement already satisfied: types-pytz in c:\\users\\nahian\\appdata\\roaming\\python\\python312\\site-packages (from pydriller) (2025.2.0.20250326)\n",
      "Requirement already satisfied: lizard in c:\\users\\nahian\\appdata\\roaming\\python\\python312\\site-packages (from pydriller) (1.17.29)\n",
      "Requirement already satisfied: gitdb<5,>=4.0.1 in c:\\users\\nahian\\appdata\\roaming\\python\\python312\\site-packages (from gitpython->pydriller) (4.0.12)\n",
      "Requirement already satisfied: pygments in c:\\users\\nahian\\appdata\\roaming\\python\\python312\\site-packages (from lizard->pydriller) (2.19.1)\n",
      "Requirement already satisfied: pathspec in c:\\users\\nahian\\appdata\\roaming\\python\\python312\\site-packages (from lizard->pydriller) (0.12.1)\n",
      "Requirement already satisfied: smmap<6,>=3.0.1 in c:\\users\\nahian\\appdata\\roaming\\python\\python312\\site-packages (from gitdb<5,>=4.0.1->gitpython->pydriller) (5.0.2)\n"
     ]
    }
   ],
   "source": [
    "!pip install pydriller"
   ]
  },
  {
   "cell_type": "code",
   "execution_count": 5,
   "id": "f24776ae-3d82-430f-bae8-5856d7e6fa81",
   "metadata": {},
   "outputs": [],
   "source": [
    "from pydriller import Repository\n",
    "import pandas as pd\n",
    "import os"
   ]
  },
  {
   "cell_type": "code",
   "execution_count": 7,
   "id": "c7b14fbd-b082-4f81-a6d9-d03edd557891",
   "metadata": {},
   "outputs": [],
   "source": [
    "repo_url = 'https://github.com/numpy/numpy'"
   ]
  },
  {
   "cell_type": "code",
   "execution_count": 9,
   "id": "597ff66b-8fb7-406b-9fc4-8af4ecd69003",
   "metadata": {},
   "outputs": [],
   "source": [
    "def extract_commit_data(repo):\n",
    "    data = []\n",
    "\n",
    "    for commit in Repository(repo_url).traverse_commits():\n",
    "        total_files = len(commit.modified_files)\n",
    "\n",
    "        for m in commit.modified_files:\n",
    "            # Handle renamed files\n",
    "            file_path = m.new_path if m.new_path else m.old_path\n",
    "            _, file_type = os.path.splitext(file_path)\n",
    "\n",
    "            # Append commit data\n",
    "            data.append({\n",
    "                \"commit_id\": commit.hash,\n",
    "                \"author\": commit.author.name,\n",
    "                \"timestamp\": commit.committer_date,\n",
    "                \"commit_message\": commit.msg,\n",
    "                \"file_path\": file_path,\n",
    "                \"file_type\": file_type,\n",
    "                \"insertions\": m.added_lines,\n",
    "                \"deletions\": m.deleted_lines,\n",
    "                \"lines_changed\": m.added_lines + m.deleted_lines,\n",
    "                \"file_count\": total_files\n",
    "            })\n",
    "    \n",
    "    print(\"Data Extraction Successful.\")\n",
    "    return data"
   ]
  },
  {
   "cell_type": "code",
   "execution_count": 11,
   "id": "33518ebb-fdea-4d92-917d-d4dcfd663514",
   "metadata": {},
   "outputs": [
    {
     "name": "stdout",
     "output_type": "stream",
     "text": [
      "Data Extraction Successful.\n"
     ]
    }
   ],
   "source": [
    "# Run the function\n",
    "data = extract_commit_data(repo_url)\n",
    "\n",
    "\n",
    "df = pd.DataFrame(data)\n",
    "df.to_csv(\"numpy_commit_data.csv\", index=False)"
   ]
  },
  {
   "cell_type": "code",
   "execution_count": null,
   "id": "b4180399-2562-43a0-a5e4-75c69329788a",
   "metadata": {},
   "outputs": [],
   "source": []
  }
 ],
 "metadata": {
  "kernelspec": {
   "display_name": "Python [conda env:base] *",
   "language": "python",
   "name": "conda-base-py"
  },
  "language_info": {
   "codemirror_mode": {
    "name": "ipython",
    "version": 3
   },
   "file_extension": ".py",
   "mimetype": "text/x-python",
   "name": "python",
   "nbconvert_exporter": "python",
   "pygments_lexer": "ipython3",
   "version": "3.12.7"
  }
 },
 "nbformat": 4,
 "nbformat_minor": 5
}
